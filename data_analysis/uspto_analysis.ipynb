{
 "cells": [
  {
   "cell_type": "code",
   "execution_count": 1,
   "metadata": {},
   "outputs": [],
   "source": [
    "import pickle\n",
    "from USPTO_CONFIG import USPTO_CONFIG\n",
    "import pandas as pd\n",
    "from rdkit import Chem\n",
    "import matplotlib.pyplot as plt\n",
    "import numpy as np\n",
    "from tqdm import tqdm\n",
    "from rdkit import RDLogger\n",
    "RDLogger.DisableLog('rdApp.*')"
   ]
  },
  {
   "cell_type": "code",
   "execution_count": 3,
   "metadata": {},
   "outputs": [],
   "source": [
    "with open(USPTO_CONFIG.reactant_dict, 'rb') as handle:\n",
    "    reactant_dict = pickle.load(handle)\n",
    "\n",
    "with open(USPTO_CONFIG.full_dict, 'rb') as handle:\n",
    "    full_dict = pickle.load(handle)"
   ]
  },
  {
   "cell_type": "code",
   "execution_count": 4,
   "metadata": {},
   "outputs": [
    {
     "name": "stdout",
     "output_type": "stream",
     "text": [
      "Number of distinct molecules in reactants:692559\n",
      "Number of distinct molecules in reactants+products:1260895\n"
     ]
    }
   ],
   "source": [
    "print(\"Number of distinct molecules in reactants:{}\\nNumber of distinct molecules in reactants+products:{}\".format(len(reactant_dict), len(full_dict)))"
   ]
  },
  {
   "cell_type": "code",
   "execution_count": 5,
   "metadata": {},
   "outputs": [],
   "source": [
    "def dict_process(reactant_dict, full_dict):\n",
    "    reactant_df = pd.DataFrame(data=reactant_dict)\n",
    "    reactant_df = reactant_df.transpose()\n",
    "\n",
    "    full_df = pd.DataFrame(data=full_dict)\n",
    "    full_df = full_df.transpose()\n",
    "\n",
    "    return reactant_df, full_df"
   ]
  },
  {
   "cell_type": "code",
   "execution_count": 6,
   "metadata": {},
   "outputs": [],
   "source": [
    "reactant_df, full_df = dict_process(reactant_dict, full_dict)"
   ]
  },
  {
   "cell_type": "code",
   "execution_count": 7,
   "metadata": {},
   "outputs": [],
   "source": [
    "reactant_df = reactant_df.rename_axis('inchi').reset_index()\n",
    "full_df = full_df.rename_axis('inchi').reset_index()"
   ]
  },
  {
   "cell_type": "code",
   "execution_count": 1,
   "metadata": {},
   "outputs": [
    {
     "ename": "NameError",
     "evalue": "name 'plt' is not defined",
     "output_type": "error",
     "traceback": [
      "\u001b[0;31m---------------------------------------------------------------------------\u001b[0m",
      "\u001b[0;31mNameError\u001b[0m                                 Traceback (most recent call last)",
      "\u001b[1;32m/sharefs/sharefs-hantang/Chemical_Reaction_Pretraining/data_analysis/uspto_analysis.ipynb Cell 7\u001b[0m in \u001b[0;36m<cell line: 1>\u001b[0;34m()\u001b[0m\n\u001b[0;32m----> <a href='vscode-notebook-cell://ssh-remote%2Bssh.platform.wudaoai.cn/sharefs/sharefs-hantang/Chemical_Reaction_Pretraining/data_analysis/uspto_analysis.ipynb#W6sdnNjb2RlLXJlbW90ZQ%3D%3D?line=0'>1</a>\u001b[0m plt\u001b[39m.\u001b[39mhist(reactant_df[\u001b[39m'\u001b[39m\u001b[39mcount\u001b[39m\u001b[39m'\u001b[39m], bins\u001b[39m=\u001b[39m\u001b[39m40\u001b[39m)\n\u001b[1;32m      <a href='vscode-notebook-cell://ssh-remote%2Bssh.platform.wudaoai.cn/sharefs/sharefs-hantang/Chemical_Reaction_Pretraining/data_analysis/uspto_analysis.ipynb#W6sdnNjb2RlLXJlbW90ZQ%3D%3D?line=1'>2</a>\u001b[0m plt\u001b[39m.\u001b[39mtitle(\u001b[39m\"\u001b[39m\u001b[39mReactants appearance frequency distribtuion in USPTO\u001b[39m\u001b[39m\"\u001b[39m)\n\u001b[1;32m      <a href='vscode-notebook-cell://ssh-remote%2Bssh.platform.wudaoai.cn/sharefs/sharefs-hantang/Chemical_Reaction_Pretraining/data_analysis/uspto_analysis.ipynb#W6sdnNjb2RlLXJlbW90ZQ%3D%3D?line=2'>3</a>\u001b[0m plt\u001b[39m.\u001b[39mshow()\n",
      "\u001b[0;31mNameError\u001b[0m: name 'plt' is not defined"
     ]
    }
   ],
   "source": [
    "\n",
    "plt.hist(reactant_df['count'], bins=40)\n",
    "plt.title(\"Reactants appearance frequency distribtuion in USPTO\")\n",
    "plt.show()\n",
    "\n",
    "plt.hist(reactant_df[reactant_df['count'] < 10]['count'], bins=40)\n",
    "plt.title(\"Reactants appearance frequency < 10 distribtuion in USPTO\")\n",
    "plt.show()\n",
    "\n",
    "plt.hist(reactant_df[(reactant_df['count'] > 10) & (reactant_df['count'] < 100)]['count'], bins=40)\n",
    "plt.title(\"Reactants appearance frequency > 10 & < 100 distribtuion in USPTO\")\n",
    "plt.show()\n",
    "\n",
    "plt.hist(reactant_df[(reactant_df['count'] > 100) & (reactant_df['count'] < 2000)]['count'], bins=40)\n",
    "plt.title(\"Reactants appearance frequency > 100 & < 2000 distribtuion in USPTO\")\n",
    "plt.show()\n",
    "\n",
    "plt.hist(reactant_df[(reactant_df['count'] > 2000) & (reactant_df['count'] < 10000)]['count'], bins=40)\n",
    "plt.title(\"Reactants appearance frequency > 2000 & < 10000 distribtuion in USPTO\")\n",
    "plt.show()\n",
    "\n",
    "plt.hist(reactant_df[reactant_df['count'] > 10000]['count'], bins=40)\n",
    "plt.title(\"Reactants appearance frequency > 10000 distribtuion in USPTO\")\n",
    "plt.show()\n",
    "\n",
    "plt.hist(reactant_df['atoms'], bins=40)\n",
    "plt.title(\"Size distribution for reactants molecules in USPTO\")\n",
    "plt.show()"
   ]
  },
  {
   "cell_type": "code",
   "execution_count": 9,
   "metadata": {},
   "outputs": [
    {
     "data": {
      "image/png": "[encoded data removed]",
      "text/plain": [
       "<Figure size 432x288 with 1 Axes>"
      ]
     },
     "metadata": {
      "needs_background": "light"
     },
     "output_type": "display_data"
    },
    {
     "data": {
      "image/png": "[encoded data removed]",
      "text/plain": [
       "<Figure size 432x288 with 1 Axes>"
      ]
     },
     "metadata": {
      "needs_background": "light"
     },
     "output_type": "display_data"
    }
   ],
   "source": [
    "\n",
    "plt.hist(full_df['count'], bins=40)\n",
    "plt.title(\"Molecule appearance frequency distribtuion in USPTO\")\n",
    "plt.show()\n",
    "\n",
    "plt.hist(full_df['atoms'], bins=40)\n",
    "plt.title(\"Size distribution for all molecules in USPTO\")\n",
    "plt.show()"
   ]
  },
  {
   "cell_type": "code",
   "execution_count": 10,
   "metadata": {},
   "outputs": [
    {
     "data": {
      "text/html": [
       "<div>\n",
       "<style scoped>\n",
       "    .dataframe tbody tr th:only-of-type {\n",
       "        vertical-align: middle;\n",
       "    }\n",
       "\n",
       "    .dataframe tbody tr th {\n",
       "        vertical-align: top;\n",
       "    }\n",
       "\n",
       "    .dataframe thead th {\n",
       "        text-align: right;\n",
       "    }\n",
       "</style>\n",
       "<table border=\"1\" class=\"dataframe\">\n",
       "  <thead>\n",
       "    <tr style=\"text-align: right;\">\n",
       "      <th></th>\n",
       "      <th>count</th>\n",
       "      <th>atoms</th>\n",
       "    </tr>\n",
       "  </thead>\n",
       "  <tbody>\n",
       "    <tr>\n",
       "      <th>count</th>\n",
       "      <td>692559.000000</td>\n",
       "      <td>692559.000000</td>\n",
       "    </tr>\n",
       "    <tr>\n",
       "      <th>mean</th>\n",
       "      <td>9.786950</td>\n",
       "      <td>23.445758</td>\n",
       "    </tr>\n",
       "    <tr>\n",
       "      <th>std</th>\n",
       "      <td>775.331692</td>\n",
       "      <td>10.144402</td>\n",
       "    </tr>\n",
       "    <tr>\n",
       "      <th>min</th>\n",
       "      <td>1.000000</td>\n",
       "      <td>1.000000</td>\n",
       "    </tr>\n",
       "    <tr>\n",
       "      <th>25%</th>\n",
       "      <td>1.000000</td>\n",
       "      <td>16.000000</td>\n",
       "    </tr>\n",
       "    <tr>\n",
       "      <th>50%</th>\n",
       "      <td>2.000000</td>\n",
       "      <td>22.000000</td>\n",
       "    </tr>\n",
       "    <tr>\n",
       "      <th>75%</th>\n",
       "      <td>3.000000</td>\n",
       "      <td>29.000000</td>\n",
       "    </tr>\n",
       "    <tr>\n",
       "      <th>max</th>\n",
       "      <td>381370.000000</td>\n",
       "      <td>547.000000</td>\n",
       "    </tr>\n",
       "  </tbody>\n",
       "</table>\n",
       "</div>"
      ],
      "text/plain": [
       "               count          atoms\n",
       "count  692559.000000  692559.000000\n",
       "mean        9.786950      23.445758\n",
       "std       775.331692      10.144402\n",
       "min         1.000000       1.000000\n",
       "25%         1.000000      16.000000\n",
       "50%         2.000000      22.000000\n",
       "75%         3.000000      29.000000\n",
       "max    381370.000000     547.000000"
      ]
     },
     "execution_count": 10,
     "metadata": {},
     "output_type": "execute_result"
    }
   ],
   "source": [
    "reactant_df[['count', 'atoms']].describe()"
   ]
  },
  {
   "cell_type": "code",
   "execution_count": 11,
   "metadata": {},
   "outputs": [
    {
     "data": {
      "text/html": [
       "<div>\n",
       "<style scoped>\n",
       "    .dataframe tbody tr th:only-of-type {\n",
       "        vertical-align: middle;\n",
       "    }\n",
       "\n",
       "    .dataframe tbody tr th {\n",
       "        vertical-align: top;\n",
       "    }\n",
       "\n",
       "    .dataframe thead th {\n",
       "        text-align: right;\n",
       "    }\n",
       "</style>\n",
       "<table border=\"1\" class=\"dataframe\">\n",
       "  <thead>\n",
       "    <tr style=\"text-align: right;\">\n",
       "      <th></th>\n",
       "      <th>count</th>\n",
       "      <th>atoms</th>\n",
       "    </tr>\n",
       "  </thead>\n",
       "  <tbody>\n",
       "    <tr>\n",
       "      <th>count</th>\n",
       "      <td>1.260895e+06</td>\n",
       "      <td>1.260895e+06</td>\n",
       "    </tr>\n",
       "    <tr>\n",
       "      <th>mean</th>\n",
       "      <td>7.022154e+00</td>\n",
       "      <td>2.567368e+01</td>\n",
       "    </tr>\n",
       "    <tr>\n",
       "      <th>std</th>\n",
       "      <td>6.016513e+02</td>\n",
       "      <td>1.007612e+01</td>\n",
       "    </tr>\n",
       "    <tr>\n",
       "      <th>min</th>\n",
       "      <td>1.000000e+00</td>\n",
       "      <td>1.000000e+00</td>\n",
       "    </tr>\n",
       "    <tr>\n",
       "      <th>25%</th>\n",
       "      <td>1.000000e+00</td>\n",
       "      <td>1.800000e+01</td>\n",
       "    </tr>\n",
       "    <tr>\n",
       "      <th>50%</th>\n",
       "      <td>2.000000e+00</td>\n",
       "      <td>2.500000e+01</td>\n",
       "    </tr>\n",
       "    <tr>\n",
       "      <th>75%</th>\n",
       "      <td>3.000000e+00</td>\n",
       "      <td>3.200000e+01</td>\n",
       "    </tr>\n",
       "    <tr>\n",
       "      <th>max</th>\n",
       "      <td>3.859490e+05</td>\n",
       "      <td>5.470000e+02</td>\n",
       "    </tr>\n",
       "  </tbody>\n",
       "</table>\n",
       "</div>"
      ],
      "text/plain": [
       "              count         atoms\n",
       "count  1.260895e+06  1.260895e+06\n",
       "mean   7.022154e+00  2.567368e+01\n",
       "std    6.016513e+02  1.007612e+01\n",
       "min    1.000000e+00  1.000000e+00\n",
       "25%    1.000000e+00  1.800000e+01\n",
       "50%    2.000000e+00  2.500000e+01\n",
       "75%    3.000000e+00  3.200000e+01\n",
       "max    3.859490e+05  5.470000e+02"
      ]
     },
     "execution_count": 11,
     "metadata": {},
     "output_type": "execute_result"
    }
   ],
   "source": [
    "full_df[['count', 'atoms']].describe()"
   ]
  },
  {
   "cell_type": "code",
   "execution_count": 9,
   "metadata": {},
   "outputs": [],
   "source": [
    "reactant_df.to_csv(USPTO_CONFIG.reactant_df, index=False)\n",
    "full_df.to_csv(USPTO_CONFIG.full_df, index=False)"
   ]
  },
  {
   "cell_type": "markdown",
   "metadata": {},
   "source": [
    "## Masking Ratio Analysis"
   ]
  },
  {
   "cell_type": "code",
   "execution_count": 7,
   "metadata": {},
   "outputs": [],
   "source": [
    "with open(USPTO_CONFIG.reaction_centre, 'rb') as handle:\n",
    "    mask_analysis = pickle.load(handle)"
   ]
  },
  {
   "cell_type": "code",
   "execution_count": 4,
   "metadata": {},
   "outputs": [
    {
     "name": "stdout",
     "output_type": "stream",
     "text": [
      "Reaction Involved: 1107901\n"
     ]
    }
   ],
   "source": [
    "print(\"Reaction Involved:\", len(mask_analysis))\n",
    "mol_dict = {}\n",
    "reaction_ratio = []\n",
    "one_hop_r = []\n",
    "two_hop_r = []\n",
    "three_hop_r = []"
   ]
  },
  {
   "cell_type": "code",
   "execution_count": 52,
   "metadata": {},
   "outputs": [
    {
     "data": {
      "text/plain": [
       "dict_keys(['[C:1]([C:5]1[CH:10]=[CH:9][C:8]([OH:11])=[CH:7][CH:6]=1)([CH3:4])([CH3:3])[CH3:2]'])"
      ]
     },
     "execution_count": 52,
     "metadata": {},
     "output_type": "execute_result"
    }
   ],
   "source": [
    "mol_smiles = list(mask_analysis.items())[0]\n",
    "# mol = Chem.MolFromSmiles(mol_smiles)\n",
    "# print(mol)\n",
    "mol_smiles[1].keys()"
   ]
  },
  {
   "cell_type": "code",
   "execution_count": 10,
   "metadata": {},
   "outputs": [
    {
     "data": {
      "text/plain": [
       "{'[C:1]([C:5]1[CH:10]=[CH:9][C:8]([OH:11])=[CH:7][CH:6]=1)([CH3:4])([CH3:3])[CH3:2]': {'reaction_centre': [1,\n",
       "   2,\n",
       "   3,\n",
       "   4,\n",
       "   6,\n",
       "   7],\n",
       "  'one_hop': [0, 1, 2, 3, 4, 5, 6, 7],\n",
       "  'two_hop': [0, 1, 2, 3, 4, 5, 6, 7, 8, 9, 10],\n",
       "  'three_hop': [0, 1, 2, 3, 4, 5, 6, 7, 8, 9, 10]}}"
      ]
     },
     "execution_count": 10,
     "metadata": {},
     "output_type": "execute_result"
    }
   ],
   "source": [
    "list(mask_analysis.items())[0][1]"
   ]
  },
  {
   "cell_type": "code",
   "execution_count": 5,
   "metadata": {},
   "outputs": [
    {
     "name": "stderr",
     "output_type": "stream",
     "text": [
      "100%|██████████| 1107901/1107901 [11:06<00:00, 1661.91it/s]\n"
     ]
    }
   ],
   "source": [
    "mols_lst = []\n",
    "for reac_name, mol_list in tqdm(list(mask_analysis.items())):\n",
    "    for mol_smiles, center in mol_list.items():\n",
    "        mol = Chem.MolFromSmiles(mol_smiles)\n",
    "        mols_lst.append(mol)\n",
    "        inchi = Chem.MolToInchi(mol)\n",
    "        # print(center)\n",
    "        hash = ''.join([str(i) for i in sorted(center['reaction_centre'])])\n",
    "        # if hash == \"\":\n",
    "        #     print(reac_name,\"\\n\", mol_smiles, \"\\n\")\n",
    "        #     print(center)\n",
    "        if inchi in mol_dict:\n",
    "            mol_dict[inchi].add(hash)\n",
    "        else:\n",
    "            mol_dict[inchi] = {hash}\n",
    "\n",
    "        atom_num = mol.GetNumAtoms()\n",
    "        reaction_ratio.append(len(center['reaction_centre']) / atom_num)\n",
    "        one_hop_r.append(len(center['one_hop']) / atom_num)\n",
    "        two_hop_r.append(len(center['two_hop']) / atom_num)\n",
    "        three_hop_r.append(len(center['three_hop']) / atom_num)\n",
    "        "
   ]
  },
  {
   "cell_type": "code",
   "execution_count": 57,
   "metadata": {},
   "outputs": [
    {
     "name": "stderr",
     "output_type": "stream",
     "text": [
      "100%|██████████| 1909783/1909783 [58:09<00:00, 547.28it/s]  \n"
     ]
    }
   ],
   "source": [
    "# brics method\n",
    "from decompose import brics_decompose_mol\n",
    "brics_label_lst = []\n",
    "brics_label_plus_lst = []\n",
    "for mol in tqdm(mols_lst):\n",
    "    b_labels = brics_decompose_mol(mol)\n",
    "    brics_label_lst.append(b_labels)\n",
    "    b_labels_plus = brics_decompose_mol(mol, addition_rule=True)\n",
    "    brics_label_plus_lst.append(b_labels_plus)\n",
    "    "
   ]
  },
  {
   "cell_type": "code",
   "execution_count": 61,
   "metadata": {},
   "outputs": [
    {
     "name": "stderr",
     "output_type": "stream",
     "text": [
      "/opt/conda/lib/python3.8/site-packages/numpy/lib/npyio.py:528: VisibleDeprecationWarning: Creating an ndarray from ragged nested sequences (which is a list-or-tuple of lists-or-tuples-or ndarrays with different lengths or shapes) is deprecated. If you meant to do this, you must specify 'dtype=object' when creating the ndarray.\n",
      "  arr = np.asanyarray(arr)\n"
     ]
    }
   ],
   "source": [
    "np.save('brics_label_lst.npy', brics_label_lst)\n",
    "np.save('brics_label_plus_lst.npy', brics_label_plus_lst)"
   ]
  },
  {
   "cell_type": "code",
   "execution_count": 3,
   "metadata": {},
   "outputs": [
    {
     "name": "stdout",
     "output_type": "stream",
     "text": [
      "1909783\n"
     ]
    }
   ],
   "source": [
    "import numpy as np\n",
    "brics_label_lst = np.load('brics_label_plus_lst.npy', allow_pickle=True)\n",
    "print(len(brics_label_lst))"
   ]
  },
  {
   "cell_type": "code",
   "execution_count": 5,
   "metadata": {},
   "outputs": [
    {
     "name": "stdout",
     "output_type": "stream",
     "text": [
      "527061\n"
     ]
    }
   ],
   "source": [
    "cnt = 0\n",
    "for brics_label in brics_label_lst:\n",
    "    brics_label = np.unique(brics_label)\n",
    "    if len(brics_label) == 1:\n",
    "        cnt += 1\n",
    "print(cnt)"
   ]
  },
  {
   "cell_type": "code",
   "execution_count": 10,
   "metadata": {},
   "outputs": [
    {
     "name": "stderr",
     "output_type": "stream",
     "text": [
      "100%|██████████| 1107901/1107901 [00:30<00:00, 35793.80it/s]\n"
     ]
    },
    {
     "name": "stdout",
     "output_type": "stream",
     "text": [
      "1909783\n"
     ]
    }
   ],
   "source": [
    "cnt = 0\n",
    "multi_frag = 0\n",
    "multi_frag_atoms_len = []\n",
    "single_frag_len = []\n",
    "single_frag_atoms_len = []\n",
    "\n",
    "ns_cnt = 0\n",
    "\n",
    "reaction_center_empty_num = 0\n",
    "reaction_center_empty_smi = []\n",
    "for reac_name, mol_list in tqdm(list(mask_analysis.items())):\n",
    "    for mol_smiles, center in mol_list.items():\n",
    "        reaction_center = center['reaction_centre']\n",
    "        if not len(reaction_center):\n",
    "            reaction_center_empty_num += 1\n",
    "            cnt += 1\n",
    "            continue\n",
    "        brics_label = np.array(brics_label_lst[cnt])\n",
    "        frag_label = np.unique(brics_label[reaction_center])\n",
    "\n",
    "        if np.sum(brics_label) == 0:\n",
    "            reaction_center_empty_smi.append(mol_smiles)\n",
    "            ns_cnt += 1\n",
    "\n",
    "        if len(frag_label) > 1:\n",
    "            multi_frag += 1\n",
    "            multi_frag_atoms_len.append(len(reaction_center))\n",
    "        else:\n",
    "            if len(frag_label) == 0:\n",
    "                print('finish')\n",
    "            frag_label = frag_label[0]\n",
    "            single_frag_len.append((brics_label == frag_label).sum())\n",
    "            single_frag_atoms_len.append(len(reaction_center))\n",
    "            \n",
    "        cnt += 1\n",
    "print(cnt)"
   ]
  },
  {
   "cell_type": "code",
   "execution_count": 23,
   "metadata": {},
   "outputs": [
    {
     "name": "stdout",
     "output_type": "stream",
     "text": [
      "['[Cl:5][CH2:6][CH2:7][CH2:8][C:9](Cl)=[O:10]', '[Cl:5][CH2:6][CH2:7][CH2:8][C:9](Cl)=[O:10]', '[C:12]1([CH3:18])[CH:17]=[CH:16][CH:15]=[CH:14][CH:13]=1', '[C:17](#[N:19])C', '[Cl:1][CH2:2][CH2:3][CH2:4][C:5](Cl)=[O:6]', '[CH2:13](O)[CH3:14]', '[CH3:24][NH:25][O:26][CH3:27]', '[Cl:5][CH2:6][CH2:7][CH2:8][C:9](Cl)=[O:10]', '[CH3:24][NH:25][CH3:26]', '[Cl:5][CH2:6][CH2:7][CH2:8][C:9](Cl)=[O:10]']\n"
     ]
    },
    {
     "data": {
      "image/png": "[encoded data removed]",
      "image/svg+xml": "<?xml version='1.0' encoding='iso-8859-1'?>\n<svg version='1.1' baseProfile='full'\n              xmlns='http://www.w3.org/2000/svg'\n                      xmlns:rdkit='http://www.rdkit.org/xml'\n                      xmlns:xlink='http://www.w3.org/1999/xlink'\n                  xml:space='preserve'\nwidth='450px' height='150px' viewBox='0 0 450 150'>\n<!-- END OF HEADER -->\n<rect style='opacity:1.0;fill:#FFFFFF;stroke:none' width='450.0' height='150.0' x='0.0' y='0.0'> </rect>\n<path class='bond-0 atom-0 atom-1' d='M 104.7,91.6 L 124.2,83.3' style='fill:none;fill-rule:evenodd;stroke:#000000;stroke-width:2.0px;stroke-linecap:butt;stroke-linejoin:miter;stroke-opacity:1' />\n<path class='bond-0 atom-0 atom-1' d='M 124.2,83.3 L 143.7,75.0' style='fill:none;fill-rule:evenodd;stroke:#0000FF;stroke-width:2.0px;stroke-linecap:butt;stroke-linejoin:miter;stroke-opacity:1' />\n<path class='bond-1 atom-1 atom-2' d='M 209.4,75.3 L 226.8,88.5' style='fill:none;fill-rule:evenodd;stroke:#0000FF;stroke-width:2.0px;stroke-linecap:butt;stroke-linejoin:miter;stroke-opacity:1' />\n<path class='bond-1 atom-1 atom-2' d='M 226.8,88.5 L 244.3,101.6' style='fill:none;fill-rule:evenodd;stroke:#FF0000;stroke-width:2.0px;stroke-linecap:butt;stroke-linejoin:miter;stroke-opacity:1' />\n<path class='bond-2 atom-2 atom-3' d='M 309.5,101.6 L 329.0,93.3' style='fill:none;fill-rule:evenodd;stroke:#FF0000;stroke-width:2.0px;stroke-linecap:butt;stroke-linejoin:miter;stroke-opacity:1' />\n<path class='bond-2 atom-2 atom-3' d='M 329.0,93.3 L 348.5,85.0' style='fill:none;fill-rule:evenodd;stroke:#000000;stroke-width:2.0px;stroke-linecap:butt;stroke-linejoin:miter;stroke-opacity:1' />\n<path class='atom-0' d='M 22.6 97.8\nQ 22.6 90.8, 25.9 87.1\nQ 29.2 83.4, 35.5 83.4\nQ 41.3 83.4, 44.4 87.5\nL 41.8 89.6\nQ 39.5 86.6, 35.5 86.6\nQ 31.2 86.6, 28.9 89.5\nQ 26.7 92.4, 26.7 97.8\nQ 26.7 103.4, 29.0 106.3\nQ 31.3 109.2, 35.9 109.2\nQ 39.0 109.2, 42.7 107.3\nL 43.8 110.3\nQ 42.3 111.2, 40.1 111.8\nQ 37.8 112.4, 35.3 112.4\nQ 29.2 112.4, 25.9 108.6\nQ 22.6 104.8, 22.6 97.8\n' fill='#000000'/>\n<path class='atom-0' d='M 47.7 107.3\nL 51.7 107.3\nL 51.7 111.3\nL 47.7 111.3\nL 47.7 107.3\nM 47.7 93.6\nL 51.7 93.6\nL 51.7 97.6\nL 47.7 97.6\nL 47.7 93.6\n' fill='#000000'/>\n<path class='atom-0' d='M 56.4 89.0\nQ 57.5 86.4, 60.0 84.9\nQ 62.4 83.4, 65.9 83.4\nQ 70.2 83.4, 72.6 85.7\nQ 75.0 88.0, 75.0 92.1\nQ 75.0 96.3, 71.8 100.2\nQ 68.8 104.2, 62.4 108.8\nL 75.4 108.8\nL 75.4 112.0\nL 56.4 112.0\nL 56.4 109.3\nQ 61.6 105.6, 64.8 102.8\nQ 67.9 100.0, 69.4 97.4\nQ 71.0 94.9, 71.0 92.3\nQ 71.0 89.6, 69.6 88.1\nQ 68.2 86.6, 65.9 86.6\nQ 63.6 86.6, 62.1 87.5\nQ 60.6 88.4, 59.5 90.4\nL 56.4 89.0\n' fill='#000000'/>\n<path class='atom-0' d='M 97.9 102.3\nL 101.3 102.3\nL 101.3 105.5\nL 97.9 105.5\nL 97.9 112.0\nL 94.1 112.0\nL 94.1 105.5\nL 79.5 105.5\nL 79.5 103.0\nL 91.9 83.7\nL 97.9 83.7\nL 97.9 102.3\nM 84.1 102.3\nL 94.1 102.3\nL 94.1 86.2\nL 84.1 102.3\n' fill='#000000'/>\n<path class='atom-1' d='M 151.3 43.3\nL 160.5 58.3\nQ 161.5 59.8, 162.9 62.4\nQ 164.4 65.1, 164.5 65.3\nL 164.5 43.3\nL 168.3 43.3\nL 168.3 71.6\nL 164.4 71.6\nL 154.4 55.2\nQ 153.3 53.3, 152.0 51.1\nQ 150.8 48.9, 150.5 48.2\nL 150.5 71.6\nL 146.8 71.6\nL 146.8 43.3\nL 151.3 43.3\n' fill='#0000FF'/>\n<path class='atom-1' d='M 173.2 66.9\nL 177.2 66.9\nL 177.2 70.9\nL 173.2 70.9\nL 173.2 66.9\nM 173.2 53.2\nL 177.2 53.2\nL 177.2 57.2\nL 173.2 57.2\nL 173.2 53.2\n' fill='#0000FF'/>\n<path class='atom-1' d='M 181.8 48.6\nQ 182.9 46.0, 185.4 44.5\nQ 187.8 43.0, 191.3 43.0\nQ 195.6 43.0, 198.0 45.3\nQ 200.4 47.6, 200.4 51.7\nQ 200.4 55.9, 197.2 59.8\nQ 194.2 63.8, 187.8 68.4\nL 200.8 68.4\nL 200.8 71.6\nL 181.8 71.6\nL 181.8 68.9\nQ 187.0 65.2, 190.2 62.4\nQ 193.3 59.6, 194.8 57.0\nQ 196.4 54.5, 196.4 51.9\nQ 196.4 49.2, 195.0 47.7\nQ 193.6 46.2, 191.3 46.2\nQ 189.0 46.2, 187.5 47.1\nQ 186.0 48.0, 184.9 50.0\nL 181.8 48.6\n' fill='#0000FF'/>\n<path class='atom-1' d='M 215.1 53.9\nQ 217.6 53.9, 219.6 55.0\nQ 221.7 56.0, 222.8 58.0\nQ 224.0 60.0, 224.0 62.6\nQ 224.0 65.6, 222.5 67.7\nQ 221.1 69.8, 218.8 70.8\nQ 216.5 71.9, 213.9 71.9\nQ 211.3 71.9, 208.9 71.0\nQ 206.5 70.0, 204.8 68.2\nL 207.2 65.7\nQ 208.5 67.1, 210.3 67.9\nQ 212.1 68.7, 214.0 68.7\nQ 216.5 68.7, 218.2 67.1\nQ 220.0 65.6, 220.0 62.7\nQ 220.0 59.7, 218.2 58.3\nQ 216.5 56.9, 213.7 56.9\nQ 211.3 56.9, 208.5 58.0\nL 206.3 56.9\nL 207.7 43.3\nL 222.2 43.3\nL 221.8 46.5\nL 210.9 46.5\nL 210.1 54.9\nQ 212.6 53.9, 215.1 53.9\n' fill='#0000FF'/>\n<path class='atom-1' d='M 174.3 11.6\nL 178.1 11.6\nL 178.1 23.6\nL 192.6 23.6\nL 192.6 11.6\nL 196.5 11.6\nL 196.5 39.9\nL 192.6 39.9\nL 192.6 26.8\nL 178.1 26.8\nL 178.1 39.9\nL 174.3 39.9\nL 174.3 11.6\n' fill='#0000FF'/>\n<path class='atom-2' d='M 227.2 119.4\nQ 227.2 112.6, 230.6 108.8\nQ 233.9 105.0, 240.2 105.0\nQ 246.5 105.0, 249.9 108.8\nQ 253.2 112.6, 253.2 119.4\nQ 253.2 126.3, 249.8 130.2\nQ 246.4 134.1, 240.2 134.1\nQ 234.0 134.1, 230.6 130.2\nQ 227.2 126.3, 227.2 119.4\nM 240.2 130.9\nQ 244.5 130.9, 246.9 128.0\nQ 249.2 125.1, 249.2 119.4\nQ 249.2 113.8, 246.9 111.0\nQ 244.5 108.2, 240.2 108.2\nQ 235.9 108.2, 233.5 111.0\nQ 231.2 113.8, 231.2 119.4\nQ 231.2 125.1, 233.5 128.0\nQ 235.9 130.9, 240.2 130.9\n' fill='#FF0000'/>\n<path class='atom-2' d='M 256.9 129.0\nL 260.9 129.0\nL 260.9 133.0\nL 256.9 133.0\nL 256.9 129.0\nM 256.9 115.2\nL 260.9 115.2\nL 260.9 119.2\nL 256.9 119.2\nL 256.9 115.2\n' fill='#FF0000'/>\n<path class='atom-2' d='M 265.7 110.7\nQ 266.8 108.0, 269.3 106.5\nQ 271.7 105.0, 275.2 105.0\nQ 279.5 105.0, 281.9 107.3\nQ 284.3 109.6, 284.3 113.8\nQ 284.3 118.0, 281.1 121.9\nQ 278.1 125.8, 271.7 130.4\nL 284.7 130.4\nL 284.7 133.6\nL 265.7 133.6\nL 265.7 131.0\nQ 270.9 127.2, 274.1 124.4\nQ 277.2 121.6, 278.7 119.1\nQ 280.3 116.6, 280.3 114.0\nQ 280.3 111.2, 278.9 109.7\nQ 277.5 108.2, 275.2 108.2\nQ 272.9 108.2, 271.4 109.1\nQ 269.9 110.0, 268.8 112.1\nL 265.7 110.7\n' fill='#FF0000'/>\n<path class='atom-2' d='M 299.9 116.0\nQ 302.4 116.0, 304.4 117.0\nQ 306.3 118.1, 307.4 120.1\nQ 308.5 122.0, 308.5 124.5\nQ 308.5 127.3, 307.3 129.4\nQ 306.1 131.6, 303.9 132.8\nQ 301.7 134.0, 299.0 134.0\nQ 293.9 134.0, 291.4 130.6\nQ 288.9 127.1, 288.9 120.3\nQ 288.9 112.8, 292.0 108.9\nQ 295.1 105.0, 301.2 105.0\nQ 302.9 105.0, 304.4 105.4\nQ 305.9 105.8, 307.4 106.6\nL 305.8 109.3\nQ 303.7 108.2, 301.2 108.2\nQ 297.2 108.2, 295.2 110.8\nQ 293.1 113.4, 292.9 118.7\nQ 294.3 117.4, 296.1 116.7\nQ 298.0 116.0, 299.9 116.0\nM 299.0 130.7\nQ 300.5 130.7, 301.8 129.9\nQ 303.1 129.1, 303.8 127.7\nQ 304.5 126.3, 304.5 124.6\nQ 304.5 122.0, 303.1 120.6\nQ 301.7 119.2, 299.2 119.2\nQ 297.5 119.2, 295.8 119.9\nQ 294.1 120.6, 292.9 121.8\nQ 293.1 126.4, 294.5 128.6\nQ 296.0 130.7, 299.0 130.7\n' fill='#FF0000'/>\n<path class='atom-3' d='M 351.9 79.0\nQ 351.9 72.0, 355.2 68.3\nQ 358.5 64.6, 364.8 64.6\nQ 370.6 64.6, 373.8 68.7\nL 371.1 70.9\nQ 368.8 67.9, 364.8 67.9\nQ 360.5 67.9, 358.2 70.7\nQ 356.0 73.6, 356.0 79.0\nQ 356.0 84.6, 358.3 87.5\nQ 360.7 90.4, 365.2 90.4\nQ 368.4 90.4, 372.0 88.5\nL 373.1 91.5\nQ 371.6 92.5, 369.4 93.0\nQ 367.2 93.6, 364.7 93.6\nQ 358.5 93.6, 355.2 89.8\nQ 351.9 86.1, 351.9 79.0\n' fill='#000000'/>\n<path class='atom-3' d='M 377.0 88.5\nL 381.0 88.5\nL 381.0 92.5\nL 377.0 92.5\nL 377.0 88.5\nM 377.0 74.8\nL 381.0 74.8\nL 381.0 78.8\nL 377.0 78.8\nL 377.0 74.8\n' fill='#000000'/>\n<path class='atom-3' d='M 385.6 70.3\nQ 386.7 67.6, 389.1 66.1\nQ 391.6 64.6, 395.1 64.6\nQ 399.3 64.6, 401.7 66.9\nQ 404.1 69.2, 404.1 73.3\nQ 404.1 77.5, 401.0 81.5\nQ 397.9 85.4, 391.5 90.0\nL 404.6 90.0\nL 404.6 93.2\nL 385.5 93.2\nL 385.5 90.5\nQ 390.8 86.8, 393.9 84.0\nQ 397.1 81.2, 398.6 78.7\nQ 400.1 76.1, 400.1 73.5\nQ 400.1 70.8, 398.8 69.3\nQ 397.4 67.8, 395.1 67.8\nQ 392.8 67.8, 391.3 68.7\nQ 389.7 69.6, 388.7 71.7\nL 385.6 70.3\n' fill='#000000'/>\n<path class='atom-3' d='M 423.5 68.1\nL 408.6 68.1\nL 408.6 64.9\nL 427.4 64.9\nL 427.4 67.7\nL 416.0 93.2\nL 412.1 93.2\nL 423.5 68.1\n' fill='#000000'/>\n</svg>\n",
      "text/html": [
       "<?xml version='1.0' encoding='iso-8859-1'?>\n",
       "<svg version='1.1' baseProfile='full'\n",
       "              xmlns='http://www.w3.org/2000/svg'\n",
       "                      xmlns:rdkit='http://www.rdkit.org/xml'\n",
       "                      xmlns:xlink='http://www.w3.org/1999/xlink'\n",
       "                  xml:space='preserve'\n",
       "width='450px' height='150px' viewBox='0 0 450 150'>\n",
       "<!-- END OF HEADER -->\n",
       "<rect style='opacity:1.0;fill:#FFFFFF;stroke:none' width='450.0' height='150.0' x='0.0' y='0.0'> </rect>\n",
       "<path class='bond-0 atom-0 atom-1' d='M 104.7,91.6 L 124.2,83.3' style='fill:none;fill-rule:evenodd;stroke:#000000;stroke-width:2.0px;stroke-linecap:butt;stroke-linejoin:miter;stroke-opacity:1' />\n",
       "<path class='bond-0 atom-0 atom-1' d='M 124.2,83.3 L 143.7,75.0' style='fill:none;fill-rule:evenodd;stroke:#0000FF;stroke-width:2.0px;stroke-linecap:butt;stroke-linejoin:miter;stroke-opacity:1' />\n",
       "<path class='bond-1 atom-1 atom-2' d='M 209.4,75.3 L 226.8,88.5' style='fill:none;fill-rule:evenodd;stroke:#0000FF;stroke-width:2.0px;stroke-linecap:butt;stroke-linejoin:miter;stroke-opacity:1' />\n",
       "<path class='bond-1 atom-1 atom-2' d='M 226.8,88.5 L 244.3,101.6' style='fill:none;fill-rule:evenodd;stroke:#FF0000;stroke-width:2.0px;stroke-linecap:butt;stroke-linejoin:miter;stroke-opacity:1' />\n",
       "<path class='bond-2 atom-2 atom-3' d='M 309.5,101.6 L 329.0,93.3' style='fill:none;fill-rule:evenodd;stroke:#FF0000;stroke-width:2.0px;stroke-linecap:butt;stroke-linejoin:miter;stroke-opacity:1' />\n",
       "<path class='bond-2 atom-2 atom-3' d='M 329.0,93.3 L 348.5,85.0' style='fill:none;fill-rule:evenodd;stroke:#000000;stroke-width:2.0px;stroke-linecap:butt;stroke-linejoin:miter;stroke-opacity:1' />\n",
       "<path class='atom-0' d='M 22.6 97.8\n",
       "Q 22.6 90.8, 25.9 87.1\n",
       "Q 29.2 83.4, 35.5 83.4\n",
       "Q 41.3 83.4, 44.4 87.5\n",
       "L 41.8 89.6\n",
       "Q 39.5 86.6, 35.5 86.6\n",
       "Q 31.2 86.6, 28.9 89.5\n",
       "Q 26.7 92.4, 26.7 97.8\n",
       "Q 26.7 103.4, 29.0 106.3\n",
       "Q 31.3 109.2, 35.9 109.2\n",
       "Q 39.0 109.2, 42.7 107.3\n",
       "L 43.8 110.3\n",
       "Q 42.3 111.2, 40.1 111.8\n",
       "Q 37.8 112.4, 35.3 112.4\n",
       "Q 29.2 112.4, 25.9 108.6\n",
       "Q 22.6 104.8, 22.6 97.8\n",
       "' fill='#000000'/>\n",
       "<path class='atom-0' d='M 47.7 107.3\n",
       "L 51.7 107.3\n",
       "L 51.7 111.3\n",
       "L 47.7 111.3\n",
       "L 47.7 107.3\n",
       "M 47.7 93.6\n",
       "L 51.7 93.6\n",
       "L 51.7 97.6\n",
       "L 47.7 97.6\n",
       "L 47.7 93.6\n",
       "' fill='#000000'/>\n",
       "<path class='atom-0' d='M 56.4 89.0\n",
       "Q 57.5 86.4, 60.0 84.9\n",
       "Q 62.4 83.4, 65.9 83.4\n",
       "Q 70.2 83.4, 72.6 85.7\n",
       "Q 75.0 88.0, 75.0 92.1\n",
       "Q 75.0 96.3, 71.8 100.2\n",
       "Q 68.8 104.2, 62.4 108.8\n",
       "L 75.4 108.8\n",
       "L 75.4 112.0\n",
       "L 56.4 112.0\n",
       "L 56.4 109.3\n",
       "Q 61.6 105.6, 64.8 102.8\n",
       "Q 67.9 100.0, 69.4 97.4\n",
       "Q 71.0 94.9, 71.0 92.3\n",
       "Q 71.0 89.6, 69.6 88.1\n",
       "Q 68.2 86.6, 65.9 86.6\n",
       "Q 63.6 86.6, 62.1 87.5\n",
       "Q 60.6 88.4, 59.5 90.4\n",
       "L 56.4 89.0\n",
       "' fill='#000000'/>\n",
       "<path class='atom-0' d='M 97.9 102.3\n",
       "L 101.3 102.3\n",
       "L 101.3 105.5\n",
       "L 97.9 105.5\n",
       "L 97.9 112.0\n",
       "L 94.1 112.0\n",
       "L 94.1 105.5\n",
       "L 79.5 105.5\n",
       "L 79.5 103.0\n",
       "L 91.9 83.7\n",
       "L 97.9 83.7\n",
       "L 97.9 102.3\n",
       "M 84.1 102.3\n",
       "L 94.1 102.3\n",
       "L 94.1 86.2\n",
       "L 84.1 102.3\n",
       "' fill='#000000'/>\n",
       "<path class='atom-1' d='M 151.3 43.3\n",
       "L 160.5 58.3\n",
       "Q 161.5 59.8, 162.9 62.4\n",
       "Q 164.4 65.1, 164.5 65.3\n",
       "L 164.5 43.3\n",
       "L 168.3 43.3\n",
       "L 168.3 71.6\n",
       "L 164.4 71.6\n",
       "L 154.4 55.2\n",
       "Q 153.3 53.3, 152.0 51.1\n",
       "Q 150.8 48.9, 150.5 48.2\n",
       "L 150.5 71.6\n",
       "L 146.8 71.6\n",
       "L 146.8 43.3\n",
       "L 151.3 43.3\n",
       "' fill='#0000FF'/>\n",
       "<path class='atom-1' d='M 173.2 66.9\n",
       "L 177.2 66.9\n",
       "L 177.2 70.9\n",
       "L 173.2 70.9\n",
       "L 173.2 66.9\n",
       "M 173.2 53.2\n",
       "L 177.2 53.2\n",
       "L 177.2 57.2\n",
       "L 173.2 57.2\n",
       "L 173.2 53.2\n",
       "' fill='#0000FF'/>\n",
       "<path class='atom-1' d='M 181.8 48.6\n",
       "Q 182.9 46.0, 185.4 44.5\n",
       "Q 187.8 43.0, 191.3 43.0\n",
       "Q 195.6 43.0, 198.0 45.3\n",
       "Q 200.4 47.6, 200.4 51.7\n",
       "Q 200.4 55.9, 197.2 59.8\n",
       "Q 194.2 63.8, 187.8 68.4\n",
       "L 200.8 68.4\n",
       "L 200.8 71.6\n",
       "L 181.8 71.6\n",
       "L 181.8 68.9\n",
       "Q 187.0 65.2, 190.2 62.4\n",
       "Q 193.3 59.6, 194.8 57.0\n",
       "Q 196.4 54.5, 196.4 51.9\n",
       "Q 196.4 49.2, 195.0 47.7\n",
       "Q 193.6 46.2, 191.3 46.2\n",
       "Q 189.0 46.2, 187.5 47.1\n",
       "Q 186.0 48.0, 184.9 50.0\n",
       "L 181.8 48.6\n",
       "' fill='#0000FF'/>\n",
       "<path class='atom-1' d='M 215.1 53.9\n",
       "Q 217.6 53.9, 219.6 55.0\n",
       "Q 221.7 56.0, 222.8 58.0\n",
       "Q 224.0 60.0, 224.0 62.6\n",
       "Q 224.0 65.6, 222.5 67.7\n",
       "Q 221.1 69.8, 218.8 70.8\n",
       "Q 216.5 71.9, 213.9 71.9\n",
       "Q 211.3 71.9, 208.9 71.0\n",
       "Q 206.5 70.0, 204.8 68.2\n",
       "L 207.2 65.7\n",
       "Q 208.5 67.1, 210.3 67.9\n",
       "Q 212.1 68.7, 214.0 68.7\n",
       "Q 216.5 68.7, 218.2 67.1\n",
       "Q 220.0 65.6, 220.0 62.7\n",
       "Q 220.0 59.7, 218.2 58.3\n",
       "Q 216.5 56.9, 213.7 56.9\n",
       "Q 211.3 56.9, 208.5 58.0\n",
       "L 206.3 56.9\n",
       "L 207.7 43.3\n",
       "L 222.2 43.3\n",
       "L 221.8 46.5\n",
       "L 210.9 46.5\n",
       "L 210.1 54.9\n",
       "Q 212.6 53.9, 215.1 53.9\n",
       "' fill='#0000FF'/>\n",
       "<path class='atom-1' d='M 174.3 11.6\n",
       "L 178.1 11.6\n",
       "L 178.1 23.6\n",
       "L 192.6 23.6\n",
       "L 192.6 11.6\n",
       "L 196.5 11.6\n",
       "L 196.5 39.9\n",
       "L 192.6 39.9\n",
       "L 192.6 26.8\n",
       "L 178.1 26.8\n",
       "L 178.1 39.9\n",
       "L 174.3 39.9\n",
       "L 174.3 11.6\n",
       "' fill='#0000FF'/>\n",
       "<path class='atom-2' d='M 227.2 119.4\n",
       "Q 227.2 112.6, 230.6 108.8\n",
       "Q 233.9 105.0, 240.2 105.0\n",
       "Q 246.5 105.0, 249.9 108.8\n",
       "Q 253.2 112.6, 253.2 119.4\n",
       "Q 253.2 126.3, 249.8 130.2\n",
       "Q 246.4 134.1, 240.2 134.1\n",
       "Q 234.0 134.1, 230.6 130.2\n",
       "Q 227.2 126.3, 227.2 119.4\n",
       "M 240.2 130.9\n",
       "Q 244.5 130.9, 246.9 128.0\n",
       "Q 249.2 125.1, 249.2 119.4\n",
       "Q 249.2 113.8, 246.9 111.0\n",
       "Q 244.5 108.2, 240.2 108.2\n",
       "Q 235.9 108.2, 233.5 111.0\n",
       "Q 231.2 113.8, 231.2 119.4\n",
       "Q 231.2 125.1, 233.5 128.0\n",
       "Q 235.9 130.9, 240.2 130.9\n",
       "' fill='#FF0000'/>\n",
       "<path class='atom-2' d='M 256.9 129.0\n",
       "L 260.9 129.0\n",
       "L 260.9 133.0\n",
       "L 256.9 133.0\n",
       "L 256.9 129.0\n",
       "M 256.9 115.2\n",
       "L 260.9 115.2\n",
       "L 260.9 119.2\n",
       "L 256.9 119.2\n",
       "L 256.9 115.2\n",
       "' fill='#FF0000'/>\n",
       "<path class='atom-2' d='M 265.7 110.7\n",
       "Q 266.8 108.0, 269.3 106.5\n",
       "Q 271.7 105.0, 275.2 105.0\n",
       "Q 279.5 105.0, 281.9 107.3\n",
       "Q 284.3 109.6, 284.3 113.8\n",
       "Q 284.3 118.0, 281.1 121.9\n",
       "Q 278.1 125.8, 271.7 130.4\n",
       "L 284.7 130.4\n",
       "L 284.7 133.6\n",
       "L 265.7 133.6\n",
       "L 265.7 131.0\n",
       "Q 270.9 127.2, 274.1 124.4\n",
       "Q 277.2 121.6, 278.7 119.1\n",
       "Q 280.3 116.6, 280.3 114.0\n",
       "Q 280.3 111.2, 278.9 109.7\n",
       "Q 277.5 108.2, 275.2 108.2\n",
       "Q 272.9 108.2, 271.4 109.1\n",
       "Q 269.9 110.0, 268.8 112.1\n",
       "L 265.7 110.7\n",
       "' fill='#FF0000'/>\n",
       "<path class='atom-2' d='M 299.9 116.0\n",
       "Q 302.4 116.0, 304.4 117.0\n",
       "Q 306.3 118.1, 307.4 120.1\n",
       "Q 308.5 122.0, 308.5 124.5\n",
       "Q 308.5 127.3, 307.3 129.4\n",
       "Q 306.1 131.6, 303.9 132.8\n",
       "Q 301.7 134.0, 299.0 134.0\n",
       "Q 293.9 134.0, 291.4 130.6\n",
       "Q 288.9 127.1, 288.9 120.3\n",
       "Q 288.9 112.8, 292.0 108.9\n",
       "Q 295.1 105.0, 301.2 105.0\n",
       "Q 302.9 105.0, 304.4 105.4\n",
       "Q 305.9 105.8, 307.4 106.6\n",
       "L 305.8 109.3\n",
       "Q 303.7 108.2, 301.2 108.2\n",
       "Q 297.2 108.2, 295.2 110.8\n",
       "Q 293.1 113.4, 292.9 118.7\n",
       "Q 294.3 117.4, 296.1 116.7\n",
       "Q 298.0 116.0, 299.9 116.0\n",
       "M 299.0 130.7\n",
       "Q 300.5 130.7, 301.8 129.9\n",
       "Q 303.1 129.1, 303.8 127.7\n",
       "Q 304.5 126.3, 304.5 124.6\n",
       "Q 304.5 122.0, 303.1 120.6\n",
       "Q 301.7 119.2, 299.2 119.2\n",
       "Q 297.5 119.2, 295.8 119.9\n",
       "Q 294.1 120.6, 292.9 121.8\n",
       "Q 293.1 126.4, 294.5 128.6\n",
       "Q 296.0 130.7, 299.0 130.7\n",
       "' fill='#FF0000'/>\n",
       "<path class='atom-3' d='M 351.9 79.0\n",
       "Q 351.9 72.0, 355.2 68.3\n",
       "Q 358.5 64.6, 364.8 64.6\n",
       "Q 370.6 64.6, 373.8 68.7\n",
       "L 371.1 70.9\n",
       "Q 368.8 67.9, 364.8 67.9\n",
       "Q 360.5 67.9, 358.2 70.7\n",
       "Q 356.0 73.6, 356.0 79.0\n",
       "Q 356.0 84.6, 358.3 87.5\n",
       "Q 360.7 90.4, 365.2 90.4\n",
       "Q 368.4 90.4, 372.0 88.5\n",
       "L 373.1 91.5\n",
       "Q 371.6 92.5, 369.4 93.0\n",
       "Q 367.2 93.6, 364.7 93.6\n",
       "Q 358.5 93.6, 355.2 89.8\n",
       "Q 351.9 86.1, 351.9 79.0\n",
       "' fill='#000000'/>\n",
       "<path class='atom-3' d='M 377.0 88.5\n",
       "L 381.0 88.5\n",
       "L 381.0 92.5\n",
       "L 377.0 92.5\n",
       "L 377.0 88.5\n",
       "M 377.0 74.8\n",
       "L 381.0 74.8\n",
       "L 381.0 78.8\n",
       "L 377.0 78.8\n",
       "L 377.0 74.8\n",
       "' fill='#000000'/>\n",
       "<path class='atom-3' d='M 385.6 70.3\n",
       "Q 386.7 67.6, 389.1 66.1\n",
       "Q 391.6 64.6, 395.1 64.6\n",
       "Q 399.3 64.6, 401.7 66.9\n",
       "Q 404.1 69.2, 404.1 73.3\n",
       "Q 404.1 77.5, 401.0 81.5\n",
       "Q 397.9 85.4, 391.5 90.0\n",
       "L 404.6 90.0\n",
       "L 404.6 93.2\n",
       "L 385.5 93.2\n",
       "L 385.5 90.5\n",
       "Q 390.8 86.8, 393.9 84.0\n",
       "Q 397.1 81.2, 398.6 78.7\n",
       "Q 400.1 76.1, 400.1 73.5\n",
       "Q 400.1 70.8, 398.8 69.3\n",
       "Q 397.4 67.8, 395.1 67.8\n",
       "Q 392.8 67.8, 391.3 68.7\n",
       "Q 389.7 69.6, 388.7 71.7\n",
       "L 385.6 70.3\n",
       "' fill='#000000'/>\n",
       "<path class='atom-3' d='M 423.5 68.1\n",
       "L 408.6 68.1\n",
       "L 408.6 64.9\n",
       "L 427.4 64.9\n",
       "L 427.4 67.7\n",
       "L 416.0 93.2\n",
       "L 412.1 93.2\n",
       "L 423.5 68.1\n",
       "' fill='#000000'/>\n",
       "</svg>\n"
      ],
      "text/plain": [
       "<rdkit.Chem.rdchem.Mol at 0x7f042b2ee0b0>"
      ]
     },
     "execution_count": 23,
     "metadata": {},
     "output_type": "execute_result"
    }
   ],
   "source": [
    "from rdkit.Chem.Draw import IPythonConsole\n",
    "IPythonConsole.ipython_useSVG = True\n",
    "print(reaction_center_empty_smi[:10])\n",
    "mol = Chem.MolFromSmiles(reaction_center_empty_smi[6])\n",
    "mol"
   ]
  },
  {
   "cell_type": "code",
   "execution_count": 9,
   "metadata": {},
   "outputs": [
    {
     "name": "stdout",
     "output_type": "stream",
     "text": [
      "188135\n",
      "290331\n",
      "1431317\n",
      "509108\n"
     ]
    }
   ],
   "source": [
    "print(reaction_center_empty_num)\n",
    "print(multi_frag)\n",
    "print(len(single_frag_len))\n",
    "print(ns_cnt)"
   ]
  },
  {
   "cell_type": "code",
   "execution_count": 29,
   "metadata": {},
   "outputs": [
    {
     "name": "stdout",
     "output_type": "stream",
     "text": [
      "5.640918818123448\n",
      "1.2804032929113536\n",
      "2.862615428597015\n"
     ]
    }
   ],
   "source": [
    "print(np.mean(single_frag_len))\n",
    "print(np.mean(single_frag_atoms_len))\n",
    "print(np.mean(multi_frag_atoms_len))"
   ]
  },
  {
   "cell_type": "code",
   "execution_count": 1,
   "metadata": {},
   "outputs": [
    {
     "ename": "NameError",
     "evalue": "name 'mask_analysis' is not defined",
     "output_type": "error",
     "traceback": [
      "\u001b[0;31m---------------------------------------------------------------------------\u001b[0m",
      "\u001b[0;31mNameError\u001b[0m                                 Traceback (most recent call last)",
      "\u001b[0;32m/tmp/ipykernel_1080362/148526703.py\u001b[0m in \u001b[0;36m<module>\u001b[0;34m\u001b[0m\n\u001b[0;32m----> 1\u001b[0;31m \u001b[0mmask_analysis\u001b[0m\u001b[0;34m\u001b[0m\u001b[0;34m\u001b[0m\u001b[0m\n\u001b[0m",
      "\u001b[0;31mNameError\u001b[0m: name 'mask_analysis' is not defined"
     ]
    }
   ],
   "source": [
    "mask_analysis"
   ]
  },
  {
   "cell_type": "code",
   "execution_count": 8,
   "metadata": {},
   "outputs": [],
   "source": [
    "reaction_center_uni_count = [len(rcenter) for rcenter in mol_dict.values()]"
   ]
  },
  {
   "cell_type": "code",
   "execution_count": 120,
   "metadata": {},
   "outputs": [],
   "source": [
    "big_ones = [(inchi, rcenter) for inchi, rcenter in mol_dict.items() if len(rcenter) > 1]"
   ]
  },
  {
   "cell_type": "code",
   "execution_count": 121,
   "metadata": {},
   "outputs": [
    {
     "data": {
      "text/plain": [
       "89072"
      ]
     },
     "execution_count": 121,
     "metadata": {},
     "output_type": "execute_result"
    }
   ],
   "source": [
    "len(big_ones)"
   ]
  },
  {
   "cell_type": "code",
   "execution_count": 126,
   "metadata": {},
   "outputs": [
    {
     "data": {
      "text/plain": [
       "('InChI=1S/C2H5ClO/c1-4-2-3/h2H2,1H3',\n",
       " {'0', '01', '02', '023', '03', '1', '12', '2', '23', '3'})"
      ]
     },
     "execution_count": 126,
     "metadata": {},
     "output_type": "execute_result"
    }
   ],
   "source": [
    "big_ones[100]"
   ]
  },
  {
   "cell_type": "code",
   "execution_count": 127,
   "metadata": {},
   "outputs": [
    {
     "data": {
      "image/png": "[encoded data removed]",
      "text/plain": [
       "<rdkit.Chem.rdchem.Mol at 0x7fbd40140660>"
      ]
     },
     "execution_count": 127,
     "metadata": {},
     "output_type": "execute_result"
    }
   ],
   "source": [
    "Chem.MolFromInchi(big_ones[100][0])"
   ]
  },
  {
   "cell_type": "code",
   "execution_count": 12,
   "metadata": {},
   "outputs": [
    {
     "name": "stdout",
     "output_type": "stream",
     "text": [
      "Unique Reaction Center Count:\n",
      "                   0\n",
      "count  676478.000000\n",
      "mean        1.256039\n",
      "std         1.325701\n",
      "min         1.000000\n",
      "25%         1.000000\n",
      "50%         1.000000\n",
      "75%         1.000000\n",
      "max       263.000000\n"
     ]
    },
    {
     "data": {
      "image/png": "[encoded data removed]",
      "text/plain": [
       "<Figure size 720x360 with 1 Axes>"
      ]
     },
     "metadata": {
      "needs_background": "light"
     },
     "output_type": "display_data"
    },
    {
     "data": {
      "image/png": "[encoded data removed]",
      "text/plain": [
       "<Figure size 720x360 with 1 Axes>"
      ]
     },
     "metadata": {
      "needs_background": "light"
     },
     "output_type": "display_data"
    },
    {
     "data": {
      "image/png": "[encoded data removed]",
      "text/plain": [
       "<Figure size 720x360 with 1 Axes>"
      ]
     },
     "metadata": {
      "needs_background": "light"
     },
     "output_type": "display_data"
    }
   ],
   "source": [
    "print(\"Unique Reaction Center Count:\")\n",
    "print(pd.DataFrame(reaction_center_uni_count).describe())\n",
    "plt.rcParams[\"figure.figsize\"] = (10, 5)\n",
    "plt.hist(reaction_center_uni_count, bins = 40)\n",
    "plt.show()\n",
    "\n",
    "plt.rcParams[\"figure.figsize\"] = (10, 5)\n",
    "plt.hist([i for i in reaction_center_uni_count if i > 1 and i <= 20], bins = 40)\n",
    "plt.show()\n",
    "\n",
    "plt.rcParams[\"figure.figsize\"] = (10, 5)\n",
    "plt.hist([i for i in reaction_center_uni_count if i > 20], bins = 40)\n",
    "plt.show()"
   ]
  },
  {
   "cell_type": "code",
   "execution_count": 82,
   "metadata": {},
   "outputs": [
    {
     "name": "stdout",
     "output_type": "stream",
     "text": [
      "Reaction Center Masking Ratio :\n",
      "                  0\n",
      "count  1.910931e+06\n",
      "mean   1.257218e-01\n",
      "std    1.403078e-01\n",
      "min    0.000000e+00\n",
      "25%    4.761905e-02\n",
      "50%    8.333333e-02\n",
      "75%    1.428571e-01\n",
      "max    1.000000e+00\n"
     ]
    }
   ],
   "source": [
    "print(\"Reaction Center Masking Ratio :\")\n",
    "print(pd.DataFrame(reaction_ratio).describe())\n"
   ]
  },
  {
   "cell_type": "code",
   "execution_count": 83,
   "metadata": {},
   "outputs": [
    {
     "name": "stdout",
     "output_type": "stream",
     "text": [
      "Reaction Center w/ 1-hop neighbours Masking Ratio :\n",
      "                  0\n",
      "count  1.910931e+06\n",
      "mean   3.050438e-01\n",
      "std    2.500344e-01\n",
      "min    0.000000e+00\n",
      "25%    1.379310e-01\n",
      "50%    2.352941e-01\n",
      "75%    4.000000e-01\n",
      "max    1.000000e+00\n"
     ]
    }
   ],
   "source": [
    "print(\"Reaction Center w/ 1-hop neighbours Masking Ratio :\")\n",
    "print(pd.DataFrame(one_hop_r).describe())\n"
   ]
  },
  {
   "cell_type": "code",
   "execution_count": 84,
   "metadata": {},
   "outputs": [
    {
     "name": "stdout",
     "output_type": "stream",
     "text": [
      "Reaction Center w/ 2-hop neighbours Masking Ratio :\n",
      "                  0\n",
      "count  1.910931e+06\n",
      "mean   4.576759e-01\n",
      "std    2.980482e-01\n",
      "min    0.000000e+00\n",
      "25%    2.380952e-01\n",
      "50%    4.000000e-01\n",
      "75%    6.551724e-01\n",
      "max    1.000000e+00\n"
     ]
    }
   ],
   "source": [
    "print(\"Reaction Center w/ 2-hop neighbours Masking Ratio :\")\n",
    "print(pd.DataFrame(two_hop_r).describe())"
   ]
  },
  {
   "cell_type": "code",
   "execution_count": 85,
   "metadata": {},
   "outputs": [
    {
     "name": "stdout",
     "output_type": "stream",
     "text": [
      "Reaction Center w/ 3-hop neighbours Masking Ratio :\n",
      "                  0\n",
      "count  1.910931e+06\n",
      "mean   5.833626e-01\n",
      "std    3.197674e-01\n",
      "min    0.000000e+00\n",
      "25%    3.478261e-01\n",
      "50%    5.833333e-01\n",
      "75%    8.888889e-01\n",
      "max    1.000000e+00\n"
     ]
    }
   ],
   "source": [
    "print(\"Reaction Center w/ 3-hop neighbours Masking Ratio :\")\n",
    "print(pd.DataFrame(three_hop_r).describe())\n"
   ]
  },
  {
   "cell_type": "code",
   "execution_count": 129,
   "metadata": {},
   "outputs": [
    {
     "data": {
      "image/png": "[encoded data removed]",
      "text/plain": [
       "<Figure size 720x1080 with 4 Axes>"
      ]
     },
     "metadata": {
      "needs_background": "light"
     },
     "output_type": "display_data"
    }
   ],
   "source": [
    "plt.rcParams[\"figure.figsize\"] = (10, 15)\n",
    "fig, (ax1, ax2, ax3, ax4) = plt.subplots(4, 1)\n",
    "ax1.hist(reaction_ratio, bins = 40)\n",
    "ax1.set_ylabel(\"reaction centre\")\n",
    "ax2.hist(one_hop_r, bins = 40)\n",
    "ax2.set_ylabel(\"1-hop\")\n",
    "ax3.hist(two_hop_r, bins = 40)\n",
    "ax3.set_ylabel(\"2-hop\")\n",
    "ax4.hist(three_hop_r, bins = 40)\n",
    "ax4.set_ylabel(\"3-hop\")\n",
    "plt.show()"
   ]
  },
  {
   "cell_type": "code",
   "execution_count": 15,
   "metadata": {},
   "outputs": [],
   "source": [
    "x = pd.read_csv(USPTO_CONFIG.path)"
   ]
  },
  {
   "cell_type": "code",
   "execution_count": 19,
   "metadata": {},
   "outputs": [],
   "source": [
    "from rdkit.Chem import Draw\n",
    "from rdkit.Chem import AllChem"
   ]
  },
  {
   "cell_type": "code",
   "execution_count": 27,
   "metadata": {},
   "outputs": [],
   "source": [
    "def plot(i):\n",
    "    full_react = x.iloc[i]['reactant'] + '>>' + x.iloc[i]['product']\n",
    "    react_mol = AllChem.ReactionFromSmarts(full_react)\n",
    "#    d2d = Draw.MolDraw2DCairo(800,300)\n",
    "#    d2d.DrawReaction(react_mol)\n",
    "    return react_mol\n",
    "    "
   ]
  },
  {
   "cell_type": "code",
   "execution_count": 78,
   "metadata": {},
   "outputs": [],
   "source": [
    "i = 39\n",
    "\n"
   ]
  },
  {
   "cell_type": "code",
   "execution_count": 90,
   "metadata": {},
   "outputs": [
    {
     "name": "stdout",
     "output_type": "stream",
     "text": [
      "50\n"
     ]
    },
    {
     "data": {
      "image/png": "[encoded data removed]",
      "text/plain": [
       "<rdkit.Chem.rdChemReactions.ChemicalReaction at 0x7f2bb8204c10>"
      ]
     },
     "execution_count": 90,
     "metadata": {},
     "output_type": "execute_result"
    }
   ],
   "source": [
    "react_mol = plot(i)\n",
    "print(i)\n",
    "# d2d = Draw.MolDraw2DCairo(800,300)\n",
    "# d2d.DrawReaction(react_mol, highlightByReactant=True)\n",
    "# png = d2d.GetDrawingText()\n",
    "# png\n",
    "i += 1\n",
    "\n",
    "react_mol"
   ]
  }
 ],
 "metadata": {
  "kernelspec": {
   "display_name": "Python 3",
   "language": "python",
   "name": "python3"
  },
  "language_info": {
   "codemirror_mode": {
    "name": "ipython",
    "version": 3
   },
   "file_extension": ".py",
   "mimetype": "text/x-python",
   "name": "python",
   "nbconvert_exporter": "python",
   "pygments_lexer": "ipython3",
   "version": "3.10.8"
  },
  "orig_nbformat": 4,
  "vscode": {
   "interpreter": {
    "hash": "5b3ded1ccb95c1d9bd405e7b823d9e85424cde40fbb5985eb47e999ef50e15b4"
   }
  }
 },
 "nbformat": 4,
 "nbformat_minor": 2
}
